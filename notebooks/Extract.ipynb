{
 "cells": [
  {
   "cell_type": "code",
   "execution_count": 1,
   "metadata": {},
   "outputs": [],
   "source": [
    "import seaborn as sns\n",
    "import metapack as mp\n",
    "import pandas as pd\n",
    "import numpy as np\n",
    "import matplotlib.pyplot as plt\n",
    "from IPython.display import display \n",
    "\n",
    "from geoid.acs import Zcta, County\n",
    "\n",
    "%matplotlib inline\n",
    "sns.set_context('notebook')\n",
    "mp.jupyter.init()\n"
   ]
  },
  {
   "cell_type": "code",
   "execution_count": 2,
   "metadata": {},
   "outputs": [
    {
     "data": {
      "text/html": [
       "<h1>Zip code (zcta) To County Map</h1>\n",
       "<p><code>census.gov-zcta_county-1.1.1</code> Last Update: 2020-11-09T21:45:29</p>\n",
       "<p><em>Maps Cenus zip-code tabulation areas to Counties</em></p>\n",
       "<h2>Contacts</h2>\n",
       "<ul>\n",
       "<li><strong>Wrangler</strong> <a href=\"mailto:eric@civicknowledge.com\">Eric Busboom</a>, <a href=\"http://civicknowledge.com\">Civic Knowledge</a></li>\n",
       "</ul>\n",
       "<h2>References</h2>\n",
       "<p><ul><li> <strong>zctas</string>, <em>censusgeo://2018/5/CA/zcta/</em>. ZCTA Geography file</li><li> <strong>counties</string>, <em>censusgeo://2018/5/US/county/</em>. Counties geography file</li><ul></p>"
      ],
      "text/plain": [
       "# Zip code (zcta) To County Map\n",
       "`census.gov-zcta_county-1.1.1` Last Update: 2020-11-09T21:45:29\n",
       "\n",
       "_Maps Cenus zip-code tabulation areas to Counties_\n",
       "\n",
       "\n",
       "\n",
       "\n",
       " \n",
       "\n",
       "## Contacts\n",
       "\n",
       "* **Wrangler** [Eric Busboom](mailto:eric@civicknowledge.com), [Civic Knowledge](http://civicknowledge.com)\n",
       "\n",
       "\n",
       "## References\n",
       "<ul><li> <strong>zctas</string>, <em>censusgeo://2018/5/CA/zcta/</em>. ZCTA Geography file</li><li> <strong>counties</string>, <em>censusgeo://2018/5/US/county/</em>. Counties geography file</li><ul>\n"
      ]
     },
     "execution_count": 2,
     "metadata": {},
     "output_type": "execute_result"
    }
   ],
   "source": [
    "#pkg = mp.jupyter.open_package()\n",
    "pkg = mp.jupyter.open_source_package()\n",
    "pkg"
   ]
  },
  {
   "cell_type": "code",
   "execution_count": null,
   "metadata": {},
   "outputs": [],
   "source": [
    "counties = pkg.reference('counties').geoframe()"
   ]
  },
  {
   "cell_type": "code",
   "execution_count": 3,
   "metadata": {},
   "outputs": [],
   "source": [
    "zctas = pkg.reference('zctas').geoframe()"
   ]
  },
  {
   "cell_type": "code",
   "execution_count": 11,
   "metadata": {},
   "outputs": [
    {
     "name": "stderr",
     "output_type": "stream",
     "text": [
      "/Users/eric/opt/anaconda3/envs/data/lib/python3.7/site-packages/ipykernel_launcher.py:2: UserWarning: Geometry is in a geographic CRS. Results from 'centroid' are likely incorrect. Use 'GeoSeries.to_crs()' to re-project geometries to a projected CRS before this operation.\n",
      "\n",
      "  \n"
     ]
    }
   ],
   "source": [
    "zcta_c = zctas.copy()\n",
    "zcta_c['geometry'] = zcta_c.centroid\n",
    "zcta_c = zcta_c[['zcta5ce10', 'geometry']]"
   ]
  },
  {
   "cell_type": "code",
   "execution_count": 25,
   "metadata": {},
   "outputs": [
    {
     "data": {
      "text/html": [
       "<div>\n",
       "<style scoped>\n",
       "    .dataframe tbody tr th:only-of-type {\n",
       "        vertical-align: middle;\n",
       "    }\n",
       "\n",
       "    .dataframe tbody tr th {\n",
       "        vertical-align: top;\n",
       "    }\n",
       "\n",
       "    .dataframe thead th {\n",
       "        text-align: right;\n",
       "    }\n",
       "</style>\n",
       "<table border=\"1\" class=\"dataframe\">\n",
       "  <thead>\n",
       "    <tr style=\"text-align: right;\">\n",
       "      <th></th>\n",
       "      <th>state</th>\n",
       "      <th>county</th>\n",
       "      <th>zcta</th>\n",
       "      <th>zcta_geoid</th>\n",
       "      <th>county_geoid</th>\n",
       "    </tr>\n",
       "  </thead>\n",
       "  <tbody>\n",
       "    <tr>\n",
       "      <th>0</th>\n",
       "      <td>31</td>\n",
       "      <td>039</td>\n",
       "      <td>68788</td>\n",
       "      <td>86000US68788</td>\n",
       "      <td>05000US31039</td>\n",
       "    </tr>\n",
       "    <tr>\n",
       "      <th>0</th>\n",
       "      <td>31</td>\n",
       "      <td>039</td>\n",
       "      <td>68716</td>\n",
       "      <td>86000US68716</td>\n",
       "      <td>05000US31039</td>\n",
       "    </tr>\n",
       "    <tr>\n",
       "      <th>0</th>\n",
       "      <td>31</td>\n",
       "      <td>039</td>\n",
       "      <td>68791</td>\n",
       "      <td>86000US68791</td>\n",
       "      <td>05000US31039</td>\n",
       "    </tr>\n",
       "    <tr>\n",
       "      <th>0</th>\n",
       "      <td>31</td>\n",
       "      <td>039</td>\n",
       "      <td>68004</td>\n",
       "      <td>86000US68004</td>\n",
       "      <td>05000US31039</td>\n",
       "    </tr>\n",
       "    <tr>\n",
       "      <th>1</th>\n",
       "      <td>53</td>\n",
       "      <td>069</td>\n",
       "      <td>98647</td>\n",
       "      <td>86000US98647</td>\n",
       "      <td>05000US53069</td>\n",
       "    </tr>\n",
       "  </tbody>\n",
       "</table>\n",
       "</div>"
      ],
      "text/plain": [
       "  state county   zcta    zcta_geoid  county_geoid\n",
       "0    31    039  68788  86000US68788  05000US31039\n",
       "0    31    039  68716  86000US68716  05000US31039\n",
       "0    31    039  68791  86000US68791  05000US31039\n",
       "0    31    039  68004  86000US68004  05000US31039\n",
       "1    53    069  98647  86000US98647  05000US53069"
      ]
     },
     "execution_count": 25,
     "metadata": {},
     "output_type": "execute_result"
    }
   ],
   "source": [
    "import geopandas as gpd\n",
    "t = gpd.sjoin(counties, zcta_c)\n",
    "t['zcta'] = t.apply(lambda r: Zcta(r.zcta5ce10), axis=1)\n",
    "t['county'] = t.apply(lambda r: County(r.statefp, r.countyfp), axis=1)\n",
    "\n",
    "t = t[['statefp','countyfp', 'zcta5ce10','zcta','county']]\n",
    "t.columns =  'state','county', 'zcta','zcta_geoid','county_geoid'\n",
    "df = t\n",
    "df.head()"
   ]
  }
 ],
 "metadata": {
  "kernelspec": {
   "display_name": "Python 3",
   "language": "python",
   "name": "python3"
  },
  "language_info": {
   "codemirror_mode": {
    "name": "ipython",
    "version": 3
   },
   "file_extension": ".py",
   "mimetype": "text/x-python",
   "name": "python",
   "nbconvert_exporter": "python",
   "pygments_lexer": "ipython3",
   "version": "3.7.6"
  }
 },
 "nbformat": 4,
 "nbformat_minor": 4
}
